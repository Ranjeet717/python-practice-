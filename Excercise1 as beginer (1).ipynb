{
 "cells": [
  {
   "cell_type": "code",
   "execution_count": null,
   "id": "fba92995-6059-48fc-9de3-e92ccc11d71b",
   "metadata": {},
   "outputs": [],
   "source": [
    "#1 Ask Name and age of user and tell  him/her in which year he/she will be 100 years old\n",
    "\n",
    "import datetime\n",
    "\n",
    "name=input(\"Enter your name\")\n",
    "print(\"Your Name is :\",name)\n",
    "age=int(input(\"Enter Your age :\"))\n",
    "print(\"Your age is \",age)\n",
    "x = datetime.datetime.now()\n",
    "y= x.year + 100-age\n",
    "print(\"Your 100 yeras will be in\",y)\n"
   ]
  },
  {
   "cell_type": "code",
   "execution_count": 59,
   "id": "cac35b51-2a97-4d4d-8c76-25b9ab9ce41d",
   "metadata": {},
   "outputs": [
    {
     "name": "stdin",
     "output_type": "stream",
     "text": [
      "Enter the number : 8658695659\n"
     ]
    },
    {
     "name": "stdout",
     "output_type": "stream",
     "text": [
      "8658695659\n",
      "Entered number is Odd\n"
     ]
    }
   ],
   "source": [
    "#2 Ask user to enter a number and tell him/her whther its odd or even\n",
    "x=int(input(\"Enter the number :\"))\n",
    "print(x)\n",
    "if x%2==0 :\n",
    "    print(\"Entered Number is Even\")\n",
    "else:\n",
    "    print(\"Entered number is Odd\")"
   ]
  },
  {
   "cell_type": "code",
   "execution_count": null,
   "id": "d9060224-e348-4c21-bc45-6fa6d04e4c3b",
   "metadata": {},
   "outputs": [],
   "source": [
    "#3 \n",
    "\n",
    "import datetime\n",
    "\n",
    "name=input(\"Enter your name\")\n",
    "print(\"Your Name is :\",name)\n",
    "age=int(input(\"Enter Your age :\"))\n",
    "print(\"Your age is \",age)\n",
    "x = datetime.datetime.now()\n",
    "y= x.year + 100-age\n",
    "print(\"Your 100 yeras will be in\",y"
   ]
  }
 ],
 "metadata": {
  "kernelspec": {
   "display_name": "Python 3 (ipykernel)",
   "language": "python",
   "name": "python3"
  },
  "language_info": {
   "codemirror_mode": {
    "name": "ipython",
    "version": 3
   },
   "file_extension": ".py",
   "mimetype": "text/x-python",
   "name": "python",
   "nbconvert_exporter": "python",
   "pygments_lexer": "ipython3",
   "version": "3.9.7"
  }
 },
 "nbformat": 4,
 "nbformat_minor": 5
}
